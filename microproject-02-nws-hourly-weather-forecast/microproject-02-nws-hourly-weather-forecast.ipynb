{
 "cells": [
  {
   "attachments": {},
   "cell_type": "markdown",
   "execution_count": 0,
   "metadata": {},
   "outputs": [],
   "source": [
    "<h1 style=\"text-align: center\">\n",
    "<div style=\"color: #DD3403; font-size: 60%\">Data Science DISCOVERY MicroProject</div>\n",
    "<span style=\"\">MicroProject #2: NWS Hourly Weather Forecast</span>\n",
    "<div style=\"font-size: 60%;\"><a href=\"https://discovery.cs.illinois.edu/microproject/dataframe-nws-weather-forecast/\">https://discovery.cs.illinois.edu/microproject/nws-hourly-weather-forecast/</a></div>\n",
    "</h1>\n",
    "\n",
    "<hr style=\"color: #DD3403;\">"
   ]
  },
  {
   "attachments": {},
   "cell_type": "markdown",
   "execution_count": 0,
   "metadata": {},
   "outputs": [],
   "source": [
    "## Data API: National Weather Service (NWS) Weather Forecast\n",
    "\n",
    "The United States' National Weather Service (NWS) allows, for free, \"developers access to critical forecasts, alerts, and observations, along with other weather data.\"  When any organization provides developers access to data, the most common way to provide data is through an Application Programming Interface or API.  An API is simply a documented and structured way that data is provided, so that a developer is able to use the data in a reliable and predictable way.  For example, you can find the full documentation of their API at: [https://www.weather.gov/documentation/services-web-api](https://www.weather.gov/documentation/services-web-api).\n",
    "\n",
    "In this MicroProject, you will use the NWS API to find the weather forecast for your location *(anywhere in the United States!)* and your MicroProject will always fetch the latest forecast the moment you run the code you will write!  Let's nerd out with some weather data! 🎉\n",
    "\n",
    "### Background Knowledge\n",
    "\n",
    "To finish this MicroProject, we assume you already know how to:\n",
    "\n",
    "- Load a CSV file into a DataFrame using `pd.read_csv` ([review loading a CSV file](https://discovery.cs.illinois.edu/learn/Basics-of-Data-Science-with-Python/Python-for-Data-Science-Introduction-to-DataFrames/))\n",
    "- Perform simple row selection of a DataFrame ([review row selection](https://discovery.cs.illinois.edu/learn/Basics-of-Data-Science-with-Python/Row-Selection-with-DataFrames/))\n",
    "\n",
    "With that knowledge, this MicroProject will guide you through nerding out with the NWS API, learning how to use a new `pd.read_json` command, and then creating a scatter plot visualization of every hour in the forecast.  Let's get started! :)"
   ]
  },
  {
   "cell_type": "markdown",
   "execution_count": 0,
   "metadata": {},
   "outputs": [],
   "source": [
    "<hr style=\"color: #DD3403;\">"
   ]
  },
  {
   "cell_type": "markdown",
   "execution_count": 0,
   "metadata": {},
   "outputs": [],
   "source": [
    "## Part 1: Retrieving Your Forecast\n",
    "\n",
    "The weather is quite different in Central Illinois than in Southern California, so the first thing we need to do is find the latitude and longitude coordinates of your location so that we can request the weather forecast for your location.\n",
    "\n",
    "A quick way to find your latitude and longitude is to use [Google Maps](https://maps.google.com/):\n",
    "\n",
    "- Open [https://maps.google.com/](https://maps.google.com/) and **right click** on a location.  *(Since this is NWS data, make sure your location is in the United States.)*\n",
    "- The first option on your right-click menu will be the `latitude, longitude` of your chosen location on the map.\n",
    "- Clicking your `latitude, longitude` will copy the data to your clipboard!\n",
    "\n",
    "Once you have your location, separate your latitude (the first number, it will be a positive number) and longitude (the second number, it will be a negative number) into two separate Python variables named `latitude` and `longitude`:"
   ]
  },
  {
   "cell_type": "code",
   "execution_count": 0,
   "metadata": {},
   "outputs": [],
   "source": [
    "latitude = ...\n",
    "longitude = ..."
   ]
  },
  {
   "attachments": {},
   "cell_type": "markdown",
   "execution_count": 0,
   "metadata": {},
   "outputs": [],
   "source": [
    "### Part 1.1: Finding Your Forecast Area Endpoint\n",
    "\n",
    "To find your weather forecast from the National Weather Service, you cannot directly use your latitude and longitude.  Instead, the NWS organizes their forecasts into small geographical \"forecast areas\".\n",
    "\n",
    "To find the \"forecast area\" from your latitude and longitude, the NWS API provides the `/points/` endpoint that uses a `latitude,longitude` value to return a weather forecast.  The full URL for this endpoint is in the following format:\n",
    "\n",
    "```\n",
    "https://api.weather.gov/points/LATITUDE,LONGITUDE\n",
    "```\n",
    "\n",
    "In the code cell below, create a string in the Python variable `pointsUrl` that contains the `/points/` endpoint for your location. \n",
    "- In your URL, you will need to replace the word `LATITUDE` with your actual latitude.\n",
    "- You will also need to replace `LONGITUDE` with your actual longitude."
   ]
  },
  {
   "cell_type": "code",
   "execution_count": 0,
   "metadata": {},
   "outputs": [],
   "source": [
    "pointsUrl = ..."
   ]
  },
  {
   "cell_type": "markdown",
   "execution_count": 0,
   "metadata": {},
   "outputs": [],
   "source": [
    "👆 Click the link you generated to see the raw data that you're retrieving from the NWS API! :)"
   ]
  },
  {
   "cell_type": "markdown",
   "execution_count": 0,
   "metadata": {},
   "outputs": [],
   "source": [
    "### Part 1.2: Retrieving the JSON Data\n",
    "\n",
    "When you viewed the raw data by clicking the link you created, you saw data formatted in a format called \"JSON\".  This is an alterative data format to CSV that is useful for hierarchical data where each data point may have different categories.\n",
    "\n",
    "Python provides a function similar to `pd.read_csv` for reading JSON formatted data: **`pd.read_json`**.  The key difference is that data read by `pd.read_json` must be JSON data (instead of CSV or other types of data).\n",
    "\n",
    "- Use `pd.read_json(...)` to use pandas's `read_json` function.\n",
    "- The function requires **two parameters**, separated by a comma:\n",
    "    1. The first parameter is the name URL to fetch the data.  You already stored this in the Python variable `pointsUrl`.\n",
    "    2. The second parameter is how to read the JSON, and the second parameter is `typ=\"series\"`.\n",
    "\n",
    "This means you can read the JSON with the following command:\n",
    "\n",
    "> ```py\n",
    "> pd.read_json(pointsUrl, typ=\"series\")\n",
    "> ```\n",
    "\n",
    "Store the result of `read_json` in a new Python variable named `pointsJSON`:"
   ]
  },
  {
   "cell_type": "code",
   "execution_count": 0,
   "metadata": {},
   "outputs": [],
   "source": [
    "import pandas as pd\n",
    "\n",
    "pointsJSON = ...\n",
    "pointsJSON"
   ]
  },
  {
   "attachments": {},
   "cell_type": "markdown",
   "execution_count": 0,
   "metadata": {},
   "outputs": [],
   "source": [
    "### Part 1.3: Finding Your Forecast URL\n",
    "\n",
    "Looking at the output of the `pointsJSON` above, you should see that there are fields of data including:\n",
    "\n",
    "- `geometry`, which include the geometric area for the forecast (you supplied a single point, but weather forecasts are given for areas that can be many square miles),\n",
    "- `properties`, which includes all properties about the location you requested,\n",
    "- ...and a few others (`id`, `type`, and `@context`).\n",
    "\n",
    "You can access the details of any field within `pointsJSON` by using the following syntax:\n",
    "\n",
    "> ```py\n",
    "> pointsJSON[\"geometry\"]     # Access the details of the \"geometry\" data within `pointsJSON`\n",
    "> pointsJSON[\"properties\"]   # Access the details of the \"properties\" data within `pointsJSON`\n",
    "> pointsJSON[\"id\"]           # Access the details of the \"id\" data within `pointsJSON`\n",
    "> # ...etc...\n",
    "> ```\n",
    "\n",
    "In the next Python cell, return all of the details of the `\"properties\"` data.  We will then look through all of the various properties for the data available about our forecast area:\n"
   ]
  },
  {
   "cell_type": "code",
   "execution_count": 0,
   "metadata": {},
   "outputs": [],
   "source": [
    "# Return all of the details of the `\"properties\"` data of `pointsJSON`:\n",
    "..."
   ]
  },
  {
   "attachments": {},
   "cell_type": "markdown",
   "execution_count": 0,
   "metadata": {},
   "outputs": [],
   "source": [
    "### Part 1.4: Record Your Forecast URL\n",
    "\n",
    "In the detailed output above, find the **`forecastHourly`** property.\n",
    "\n",
    "The `forecastHourly` URL is the API endpoint that will contain the hourly forecast similar to what you see on any common weather app, with the forecasted temperature, sky condition (ex: sunny, cloudy, etc), chance of presentation, and more.\n",
    "\n",
    "Using copy and paste to avoid typos, copy and paste just the URL for the hourly forecast and store it in the variable `hourlyForecastURL`.\n",
    "- ⚠️ There are many things with `forecast` in this data, so make sure you're finding the field for **`forecastHourly`**.\n",
    "- Make sure you're copying/pasting only the URL -- it should start with `https://`, end with `/hourly`, and have details about your specific location in the middle."
   ]
  },
  {
   "cell_type": "code",
   "execution_count": 0,
   "metadata": {},
   "outputs": [],
   "source": [
    "hourlyForecastURL = \"\"\n",
    "hourlyForecastURL"
   ]
  },
  {
   "cell_type": "code",
   "execution_count": 0,
   "metadata": {},
   "outputs": [],
   "source": [
    "### TEST CASE for Part 1: Retrieving Your Forecast\n",
    "#\n",
    "# What is this cell?\n",
    "# - This cell contains test cases for the MicroProject.  You can modify anything except\n",
    "#   the first line of this cell, but we will replace this cell with a new version of this\n",
    "#   cell when your MicroProject is graded.  It's usually best to not change this cell!\n",
    "#\n",
    "# - To run the test cases we have for you, just run this Python cell like any other cell! :)\n",
    "#\n",
    "# - If this cell runs without any error in the output, you PASSED all test cases!\n",
    "#   We try and make these test cases as useful and complete as possible, but there is\n",
    "#   a chance your code may be incorrect even though you pass the test cases (these\n",
    "#   tests should be seen as a way to give you confidence that code you understand how\n",
    "#   it works is actually correct, not as a robust check to catch all possible errors).\n",
    "#\n",
    "# - If this cell results in any errors, check you previous cells, make changes, and\n",
    "#   RE-RUN your code and then re-run this cell.  Keep repeating this until the cell\n",
    "#   passed with no errors! :)\n",
    "#\n",
    "# - You will find more cells that begin with the words \"TEST CASE\" throughout the\n",
    "#   notebook at important points to make sure everything is looking good so far!\n",
    "#\n",
    "\n",
    "tada = \"\\N{PARTY POPPER}\"\n",
    "assert(\"/points/\" in pointsJSON[\"id\"]), \"Your URL is in the incorrect format. Look back to Part 1.1 for the correct format.\"\n",
    "assert(f\"/{int(latitude)}\" in pointsJSON[\"id\"]), \"Your URL is in the incorrect format. Look back to Part 1.1 for the correct format.\"\n",
    "assert(f\",{int(longitude)}\" in pointsJSON[\"id\"]), \"Your URL is in the incorrect format. Look back to Part 1.1 for the correct format.\"\n",
    "assert(\"/gridpoints/\" in hourlyForecastURL), \"Your hourlyForecastURL is incorrect. Make sure you've got the right URL for the hourly forecast.\"\n",
    "assert(\"/forecast/hourly\" in hourlyForecastURL), \"Your hourlyForecastURL is incorrect. Make sure you've got the right URL for the hourly forecast.\"\n",
    "print(f\"{tada} All Tests Passed! {tada}\")"
   ]
  },
  {
   "attachments": {},
   "cell_type": "markdown",
   "execution_count": 0,
   "metadata": {},
   "outputs": [],
   "source": [
    "<hr style=\"color: #DD3403;\">"
   ]
  },
  {
   "attachments": {},
   "cell_type": "markdown",
   "execution_count": 0,
   "metadata": {},
   "outputs": [],
   "source": [
    "## Part 2: Loading Your Weather Forecast as a DataFrame\n",
    "\n",
    "In an identical way as you did in Part 1.2 of this MicroProject, use `pd.read_json` to load the your hourly weather forecast.\n",
    "- ⚠️ Your hourly weather forecast URL is the URL from Part 1.4, which is a different URL than you loaded the first time you read a JSON file.\n",
    "- Store the JSON in a new Python variable named `forecastJSON`:"
   ]
  },
  {
   "cell_type": "code",
   "execution_count": 0,
   "metadata": {},
   "outputs": [],
   "source": [
    "forecastJSON = ...\n",
    "forecastJSON"
   ]
  },
  {
   "attachments": {},
   "cell_type": "markdown",
   "execution_count": 0,
   "metadata": {},
   "outputs": [],
   "source": [
    "### Part 2.1: Finding the Forecast Data\n",
    "\n",
    "Inside of the `properties` data, the `periods` data provides a **well-defined, structured** set of data that contains the forecast for every hour for your location.\n",
    "\n",
    "Run the following cells as we dive deeper into the hourly forecast data:"
   ]
  },
  {
   "cell_type": "code",
   "execution_count": 0,
   "metadata": {},
   "outputs": [],
   "source": [
    "# Return the top level of the JSON:\n",
    "forecastJSON"
   ]
  },
  {
   "cell_type": "code",
   "execution_count": 0,
   "metadata": {},
   "outputs": [],
   "source": [
    "# Return the \"properties\" data in the JSON:\n",
    "forecastJSON[\"properties\"]"
   ]
  },
  {
   "cell_type": "code",
   "execution_count": 0,
   "metadata": {},
   "outputs": [],
   "source": [
    "# Return the \"properties\" -> \"periods\" data in the JSON:\n",
    "forecastJSON[\"properties\"][\"periods\"]"
   ]
  },
  {
   "attachments": {},
   "cell_type": "markdown",
   "execution_count": 0,
   "metadata": {},
   "outputs": [],
   "source": [
    "### Part 2.2: Converting Structured Data into a DataFrame\n",
    "\n",
    "The data we find in the `forecastJSON[\"properties\"][\"periods\"]` above is consistently structured data.  Specifically,\n",
    "- Every entry has the exact same field names (ex: `number`, `startTime`, `temperature`, `windSpeed`, etc).\n",
    "- The set of entries are organized as a list.\n",
    "\n",
    "Because this data is consistently structured, we are able to create a DataFrame out of this data.  Run the code below to create a DataFrame out of the `forecastJSON` that contains the current hourly forecast data for the location you selected in this MicroProject:"
   ]
  },
  {
   "cell_type": "code",
   "execution_count": 0,
   "metadata": {},
   "outputs": [],
   "source": [
    "df = pd.DataFrame(forecastJSON[\"properties\"][\"periods\"])\n",
    "df"
   ]
  },
  {
   "cell_type": "code",
   "execution_count": 0,
   "metadata": {},
   "outputs": [],
   "source": [
    "### TEST CASE for Part 2: Loading Your Weather Forecast as a DataFrame\n",
    "tada = \"\\N{PARTY POPPER}\"\n",
    "assert(\"df\" in vars()), \"Make sure you've run the code to create a DataFrame from `forecastJSON`.\"\n",
    "assert(\"startTime\" in df), \"Make sure you're using the `periods` data inside the `properties` data.\"\n",
    "assert(\"temperature\" in df), \"Make sure you're using the `periods` data inside the `properties` data.\"\n",
    "print(f\"{tada} All Tests Passed! {tada}\")"
   ]
  },
  {
   "attachments": {},
   "cell_type": "markdown",
   "execution_count": 0,
   "metadata": {},
   "outputs": [],
   "source": [
    "<hr style=\"color: #DD3403;\">"
   ]
  },
  {
   "attachments": {},
   "cell_type": "markdown",
   "execution_count": 0,
   "metadata": {},
   "outputs": [],
   "source": [
    "## Puzzle 3: Exploring Your Weather\n",
    "\n",
    "Now that we have the **current hourly weather forecast for your location** loaded into the DataFrame stored in the Python variable `df`, it's time to nerd out with it!\n",
    "\n",
    "- Looking at data stored in `df` in the output above the previous test case, you'll find the DataFrame has about 156 rows.\n",
    "- Since each row contains a forecast for one hour, this means the entire DataFrame represents the forecast for the next 6.5 days.\n",
    "- Let's find some interesting data about the upcoming few days. :)"
   ]
  },
  {
   "attachments": {},
   "cell_type": "markdown",
   "execution_count": 0,
   "metadata": {},
   "outputs": [],
   "source": [
    "### Puzzle 3.1: Your Warmest Upcoming Temperature\n",
    "\n",
    "Using the DataFrame stored in the Python variable `df`, find the single row with the warmest temperature in the entire forecast and store that single row in a Python variable called `df_warmest`."
   ]
  },
  {
   "cell_type": "code",
   "execution_count": 0,
   "metadata": {},
   "outputs": [],
   "source": [
    "df_warmest = ...\n",
    "df_warmest"
   ]
  },
  {
   "attachments": {},
   "cell_type": "markdown",
   "execution_count": 0,
   "metadata": {},
   "outputs": [],
   "source": [
    "### Puzzle 3.2: Your Coldest Upcoming Temperature\n",
    "\n",
    "Using your data, find the coldest temperature in the entire forecast!  Save that row as `df_coldest`:"
   ]
  },
  {
   "cell_type": "code",
   "execution_count": 0,
   "metadata": {},
   "outputs": [],
   "source": [
    "df_coldest = ...\n",
    "df_coldest"
   ]
  },
  {
   "cell_type": "code",
   "execution_count": 0,
   "metadata": {},
   "outputs": [],
   "source": [
    "### TEST CASE for Puzzles 3.1 and 3.2: Warmest and Coldest Temperatures\n",
    "tada = \"\\N{PARTY POPPER}\"\n",
    "assert( len(df_warmest) == 1 ), \\\n",
    "  \"The DataFrame stored in the variable `df_warmest` should only have one observation (row).\"\n",
    "\n",
    "assert( df_warmest[\"temperature\"].values[0] == max(df[\"temperature\"]) ), \\\n",
    "  \"The single row stored in the variable `df_warmest` must be the row with the warmest temperature, and it currently does not store the warmest temperature in the forecast.\"\n",
    "\n",
    "assert( len(df_coldest) == 1 ), \\\n",
    "  \"The DataFrame stored in the variable `df_coldest` should only have one observation (row).\"\n",
    "\n",
    "assert( df_coldest[\"temperature\"].values[0] == min(df[\"temperature\"]) ), \\\n",
    "  \"The single row stored in the variable `df_coldest` must be the row with the coldest temperature, and it currently does not store the coldest temperature in the forecast.\"\n",
    "\n",
    "print(f\"{tada} All Tests Passed! {tada}\")\n"
   ]
  },
  {
   "attachments": {},
   "cell_type": "markdown",
   "execution_count": 0,
   "metadata": {},
   "outputs": [],
   "source": [
    "### Puzzle 3.3: Forecast Summary\n",
    "\n",
    "In your data, the `shortForecast` column provides a brief summary of the forecasted condition of the sky for each hour.  The same conditions appear multiple times throughout the forecast, so it'd be useful to get a count of how many times each value appears.\n",
    "\n",
    "An extremely useful command to count the number of times a unique value appears in a column is:\n",
    "\n",
    "> ```py\n",
    "> df[\"column\"].value_counts()\n",
    "> ```\n",
    "\n",
    "This will list all of the unique values that appears in the `\"column\"` specified, count how many times they appear, and even sorts the results with the most commonly appearing unique value at the top!\n",
    "\n",
    "Using the code above, find the counts for the unique values of `shortForecast` in your forecast.  Store this result in a new Python variable named `forecastSummary`:"
   ]
  },
  {
   "cell_type": "code",
   "execution_count": 0,
   "metadata": {},
   "outputs": [],
   "source": [
    "forecastSummary = ...\n",
    "forecastSummary"
   ]
  },
  {
   "cell_type": "code",
   "execution_count": 0,
   "metadata": {},
   "outputs": [],
   "source": [
    "### TEST CASE for Puzzle 3.3: Forecast Summary\n",
    "tada = \"\\N{PARTY POPPER}\"\n",
    "\n",
    "assert( len(forecastSummary) == len(df[\"shortForecast\"].unique()) )\n",
    "for forecast in df[\"shortForecast\"].unique():\n",
    "  rows_len = len(df[ df[\"shortForecast\"] == forecast ])\n",
    "  summary_ct = forecastSummary[ forecastSummary.index == forecast ].values[0]\n",
    "  assert( rows_len == summary_ct ), \\\n",
    "    f\"Your shortForecast for column {forecast} is incorrect (summary = {summary_ct}, expected = {rows_len}).\"\n",
    "\n",
    "print(f\"{tada} All Tests Passed! {tada}\")"
   ]
  },
  {
   "attachments": {},
   "cell_type": "markdown",
   "execution_count": 0,
   "metadata": {},
   "outputs": [],
   "source": [
    "<hr style=\"color: #DD3403;\">"
   ]
  },
  {
   "attachments": {},
   "cell_type": "markdown",
   "execution_count": 0,
   "metadata": {},
   "outputs": [],
   "source": [
    "## Part 4: Create a Scatter Plot\n",
    "\n",
    "Finally, like any good weather app, let's create a data visualization of the temperature each hour to understand the trends in the temperature!\n",
    "\n",
    "To create a scatter plot with pandas, like almost all data visualizations, you need to identify the column name of data that you want to use for the `x`-axis data and column name of data that you want to use for the `y`-axis data.\n",
    "\n",
    "The Python code to create a scatter plot using a DataFrame stored in the variable `df` is then:\n",
    "\n",
    "> ```py\n",
    "> df.plot.scatter(x=\"x-column\", y=\"y-column\")\n",
    "> ```\n",
    "\n",
    "Use the above syntax, but make sure to:\n",
    "- For the `x`-axis data, find and use the column name for that contains the starting date/time for the each hour,\n",
    "- For the `y`-axis data, find and use the column name for that contains the temperature for the each hour,\n",
    "- Then create a simple scatter plot! :)"
   ]
  },
  {
   "cell_type": "code",
   "execution_count": 0,
   "metadata": {},
   "outputs": [],
   "source": [
    "..."
   ]
  },
  {
   "cell_type": "markdown",
   "execution_count": 0,
   "metadata": {},
   "outputs": [],
   "source": [
    "### Refine Your Scatter Plot\n",
    "\n",
    "Above, you have a scatter plot -- but the x-axis is likely unreadable and the plot is hard to read.  Data visualizations in Python can take additional function parameters, by listing them inside of the `df.plot.scatter(...)` command similar to how the `x` and `y` parameters are already listed.\n",
    "\n",
    "Additionally, we'll save this visualization in a variable called `ax` so we can verify it looks good!\n",
    "\n",
    "In the cell below, add the following additional parameters to the `df.plot.scatter` function, making sure to separate each one by commas:\n",
    "- Add your original `x` and `y` parameters that you used in the graph you just made to the code below, and then:\n",
    "- Add `title=\"Hourly Temperature Forecast for LOCATION\"`, replacing `LOCATION` with the city/location you choose to find the forecast of in this MicroProject,\n",
    "- Add `xticks = df.startTime.values[::6]` to show only every 6th tick to get fewer x-axis labels,\n",
    "- Add `rot = 90` to rotate the labels 90 degrees (vertical),\n",
    "- Add `grid = True` to add gridlines,\n",
    "- Add `figsize = (10, 6)` to make the figure 10 inches wide and 6 inches tall, making it larger *(you can change these values to make it bigger/smaller as you want and they do not need to be exactly 10 and 6)*,\n",
    "- Add all of these options, **and any others you want**, to get a really useful visualization! :)"
   ]
  },
  {
   "cell_type": "code",
   "execution_count": 0,
   "metadata": {},
   "outputs": [],
   "source": [
    "# Add all the parameters to `df.plot.scatter` to make a great looking scatter plot:\n",
    "ax = df.plot.scatter( ... )\n",
    "ax"
   ]
  },
  {
   "cell_type": "code",
   "execution_count": 0,
   "metadata": {},
   "outputs": [],
   "source": [
    "### TEST CASE for Part 4: Create a Scatter Plot\n",
    "tada = \"\\N{PARTY POPPER}\"\n",
    "import matplotlib.pyplot as plt\n",
    "\n",
    "assert( \"ax\" in vars() ), \\\n",
    "  \"You must store your data visualization in a Python variable called `ax`.\"\n",
    "\n",
    "assert( ax.axes.get_xticklabels()[0].get_text() in df.startTime.values ), \\\n",
    "  \"Your x-axis values must be the starting times of each hour of the weather forecast.\"\n",
    "\n",
    "ytick = float(ax.axes.get_yticklabels()[0].get_text().replace(\"−\", \"-\"))\n",
    "assert( ytick > -200 ), \\\n",
    "  \"Your y-axis values must be the temperature for each hour of the weather forecast.\"\n",
    "assert( ytick < 200 ), \\\n",
    "  \"Your y-axis values must be the temperature for each hour of the weather forecast.\"\n",
    "\n",
    "assert( len(ax.title.get_text()) > 10 ), \\\n",
    "  \"Your data visualization must contain a title.\"\n",
    "\n",
    "assert( not \"LOCATION\" in ax.title.get_text() ), \\\n",
    "  \"In the title, you must replace LOCATION with an actual location.\"\n",
    "\n",
    "print(f\"{tada} All Tests Passed! {tada}\")"
   ]
  },
  {
   "attachments": {},
   "cell_type": "markdown",
   "execution_count": 0,
   "metadata": {},
   "outputs": [],
   "source": [
    "<hr style=\"color: #DD3403;\">"
   ]
  },
  {
   "cell_type": "markdown",
   "execution_count": 0,
   "metadata": {},
   "outputs": [],
   "source": [
    "## Share Your Weather Forecast Visualization!\n",
    "\n",
    "The visualization you made is **unique to your location** and **unique the time you completed this MicroProject** -- for every location, and for every hour, it will look a little different!\n",
    "\n",
    "It would be an honor to me if you shared the image you created in the DISCOVERY Discord in the channel `#02-hourly-weather-forecast`, and check out the forecasts for other times and locations that others have shared. :)\n",
    "\n",
    "Hope to see your image in Discord! 🧡💙"
   ]
  },
  {
   "cell_type": "markdown",
   "execution_count": 0,
   "metadata": {},
   "outputs": [],
   "source": [
    "<hr style=\"color: #DD3403;\">"
   ]
  },
  {
   "attachments": {},
   "cell_type": "markdown",
   "execution_count": 0,
   "metadata": {},
   "outputs": [],
   "source": [
    "## Submission\n",
    "\n",
    "You're almost done!  All you need to do is to commit your lab to GitHub and run the GitHub Actions Grader:\n",
    "\n",
    "1.  ⚠️ **Make certain to save your work.** ⚠️ To do this, go to **File => Save All**\n",
    "\n",
    "2.  After you have saved, exit this notebook and return to https://discovery.cs.illinois.edu/microproject/dataframe-nws-weather-forecast/ and complete the section **\"Commit and Grade Your Notebook\"**.\n",
    "\n",
    "3. If you see a 100% grade result on your GitHub Action, you've completed this MicroProject! 🎉"
   ]
  }
 ],
 "metadata": {
  "kernelspec": {
   "display_name": "Python 3",
   "language": "python",
   "name": "python3"
  },
  "language_info": {
   "codemirror_mode": {
    "name": "ipython",
    "version": 3
   },
   "file_extension": ".py",
   "mimetype": "text/x-python",
   "name": "python",
   "nbconvert_exporter": "python",
   "pygments_lexer": "ipython3",
   "version": "3.10.5"
  }
 },
 "nbformat": 4,
 "nbformat_minor": 2
}
