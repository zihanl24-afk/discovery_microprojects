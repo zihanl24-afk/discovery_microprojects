{
 "cells": [
  {
   "attachments": {},
   "cell_type": "markdown",
   "execution_count": 0,
   "metadata": {},
   "outputs": [],
   "source": [
    "<h1 style=\"text-align: center\">\n",
    "<div style=\"color: #DD3403; font-size: 60%\">Data Science DISCOVERY MicroProject</div>\n",
    "<span style=\"\">MicroProject #1: Trends in High School GPAs</span>\n",
    "<div style=\"font-size: 60%;\"><a href=\"https://discovery.cs.illinois.edu/microproject/trends-in-high-school-gpas/\">https://discovery.cs.illinois.edu/microproject/trends-in-high-school-gpas/</a></div>\n",
    "</h1>\n",
    "\n",
    "<hr style=\"color: #DD3403;\">"
   ]
  },
  {
   "cell_type": "markdown",
   "execution_count": 0,
   "metadata": {},
   "outputs": [],
   "source": [
    "## Data Source: Common Data Set\n",
    "\n",
    "The [Common Data Set (CDS)](https://commondataset.org/) is an annual report published by nearly every major college and university in the United States with the goal to achieve the *\"development of clear, standard data items and definitions in order to determine a specific cohort relevant to each item\"*.\n",
    "\n",
    "As part of the Common Data Set, universities report the \"percentage of all enrolled, degree-seeking, first-time, first-year students [...] high school grade-point averages\" in the following GPA ranges:\n",
    "\n",
    "- Percentage of incoming freshman with a high school GPA of 4.00\n",
    "- Percentage of incoming freshman with a high school GPA of 3.75 or greater\n",
    "- Percentage of incoming freshman with a high school GPA of 3.50 or greater\n",
    "- ...and so on...\n",
    "\n",
    "For example, the University of Wisconsin-Madison's [UW-Madison 2024 CDS](https://data.wisc.edu/common-data-set-and-rankings/) reports following the following high school GPAs for the freshman class entering in Fall 2023:\n",
    "\n",
    "| High School GPA | Percentage of Freshman Class |\n",
    "| --------------: | ---------------------------: |\n",
    "| =4.00            | 47.8%                        |\n",
    "| $\\ge$ 3.75 (includes 4.00s)    | 83.8%  |\n",
    "| $\\ge$ 3.50     | 95.9%                        |\n",
    "| $\\ge$ 3.25     | 98.8%                        |\n",
    "| $\\ge$ 3.00     | 99.7%                        |\n",
    "| $\\ge$ 2.50     | 100%                        |\n",
    "| $\\ge$ 2.00     | 100%                        |\n",
    "| $\\ge$ 1.00     | 100%                        |\n",
    "| $\\ge$ 0.00     | 100%                        |\n",
    "\n",
    "In January 2025, we compiled all of high school GPAs from the Common Data Sets provided by all Big Ten Universities and provide them as a dataset `cds-high-school-gpas.csv`.  In this MicroProject, you will nerd out with this data and explore any trends in the high school GPAs of freshman at Big Ten schools.  Let's nerd out! 🎉\n",
    "\n",
    "\n",
    "### Background Knowledge\n",
    "\n",
    "To finish this MicroProject, we assume you already know how to:\n",
    "\n",
    "- Load a CSV file into a DataFrame using `pd.read_csv` ([review loading a CSV file](https://discovery.cs.illinois.edu/learn/Basics-of-Data-Science-with-Python/Python-for-Data-Science-Introduction-to-DataFrames/)),\n",
    "- Perform simple row selection of a DataFrame ([review row selection](https://discovery.cs.illinois.edu/learn/Basics-of-Data-Science-with-Python/Row-Selection-with-DataFrames/)),\n",
    "\n",
    "With that knowledge, this MicroProject will guide you through nerding out with the Common Data Set and creating a visualization from a DataFrame.  Let's get started! :)"
   ]
  },
  {
   "cell_type": "markdown",
   "execution_count": 0,
   "metadata": {},
   "outputs": [],
   "source": [
    "<hr style=\"color: #DD3403;\">"
   ]
  },
  {
   "attachments": {},
   "cell_type": "markdown",
   "execution_count": 0,
   "metadata": {},
   "outputs": [],
   "source": [
    "## Part 1: Importing the CDS Big Ten High School GPAs Dataset\n",
    "\n",
    "You can find the `cds-high-school-gpas.csv` dataset at the following URL: https://waf.cs.illinois.edu/discovery/cds-high-school-gpas.csv\n",
    "\n",
    "Load the URL as a dataset as a new DataFrame in a variable named `df`:"
   ]
  },
  {
   "cell_type": "code",
   "execution_count": 0,
   "metadata": {},
   "outputs": [],
   "source": [
    "# Load the URL as a new DataFrame in a variable named `df`:\n",
    "# (The URL is: \"https://waf.cs.illinois.edu/discovery/cds-high-school-gpas.csv\")\n",
    "..."
   ]
  },
  {
   "cell_type": "markdown",
   "execution_count": 0,
   "metadata": {},
   "outputs": [],
   "source": [
    "Once you have the dataset loaded, you can display the DataFrame by placing the variable name on the last line of any Python cell.  For example, run the following cell that just contains the variable named `df` to see the DataFrame you just loaded:"
   ]
  },
  {
   "cell_type": "code",
   "execution_count": 0,
   "metadata": {},
   "outputs": [],
   "source": [
    "df"
   ]
  },
  {
   "attachments": {},
   "cell_type": "markdown",
   "execution_count": 0,
   "metadata": {},
   "outputs": [],
   "source": [
    "<hr style=\"color: #DD3403;\">"
   ]
  },
  {
   "attachments": {},
   "cell_type": "markdown",
   "execution_count": 0,
   "metadata": {},
   "outputs": [],
   "source": [
    "## Part 2: Exploring the Data\n",
    "\n",
    "One of the first steps in Data Science is to understand your data and explore the dataset!"
   ]
  },
  {
   "cell_type": "markdown",
   "execution_count": 0,
   "metadata": {},
   "outputs": [],
   "source": [
    "### Part 2.1: Highest Percentage of Freshman with 4.00 High School GPAs\n",
    "\n",
    "First, find the **ten rows** that have the highest percentage of incoming freshman with a 4.00 GPA.  Store those ten rows in a new variable named `df_highest400`.\n",
    "\n",
    "Helpful Tips: \n",
    "- You will need to reference Part 1 to understand the structure of the dataset to find the exact name of the column.\n",
    "- You can review the [DISCOVERY page: \"Row Selection with DataFrames\"](https://discovery.cs.illinois.edu/learn/Basics-of-Data-Science-with-Python/Row-Selection-with-DataFrames/) to find out how to select rows with the largest values."
   ]
  },
  {
   "cell_type": "code",
   "execution_count": 0,
   "metadata": {},
   "outputs": [],
   "source": [
    "# Find the **ten rows** that have the highest percentage of incoming freshman with a 4.00 GPA:\n",
    "df_highest400 = ...\n",
    "df_highest400"
   ]
  },
  {
   "cell_type": "code",
   "execution_count": 0,
   "metadata": {},
   "outputs": [],
   "source": [
    "### TEST CASE for Part 2.1: Highest Percentage of Freshman with 4.00 High School GPAs\n",
    "#\n",
    "# What is this cell?\n",
    "# - This cell contains test cases for the MicroProject.  You can modify anything except\n",
    "#   the first line of this cell, but we will replace this cell with a new version of this\n",
    "#   cell when your MicroProject is graded.  It's usually best to not change this cell!\n",
    "#\n",
    "# - To run the test cases we have for you, just run this Python cell like any other cell! :)\n",
    "#\n",
    "# - If this cell runs without any error in the output, you PASSED all test cases!\n",
    "#   We try and make these test cases as useful and complete as possible, but there is\n",
    "#   a chance your code may be incorrect even though you pass the test cases (these\n",
    "#   tests should be seen as a way to give you confidence that code you understand how\n",
    "#   it works is actually correct, not as a robust check to catch all possible errors).\n",
    "#\n",
    "# - If this cell results in any errors, check you previous cells, make changes, and\n",
    "#   RE-RUN your code and then re-run this cell.  Keep repeating this until the cell\n",
    "#   passed with no errors! :)\n",
    "#\n",
    "# - You will find more cells that begin with the words \"TEST CASE\" throughout the\n",
    "#   notebook at important points to make sure everything is looking good so far!\n",
    "#\n",
    "\n",
    "tada = \"\\N{PARTY POPPER}\"\n",
    "\n",
    "assert( \"df_highest400\" in vars() ), \\\n",
    "  \"You must define a new variable called `df_highest400`.\"\n",
    "\n",
    "assert( \"DataFrame\" in str(type(df_highest400)) ), \\\n",
    "  \"The variable `df_highest400` must contain a DataFrame.\"\n",
    "\n",
    "assert( \"School\" in df_highest400 ), \\\n",
    "  \"The DataFrame stored in `df_highest400` does not contain a column \\\"School\\\".  Are you sure it's a subset of the original DataFrame?\"\n",
    "\n",
    "assert( \">=3.75\" in df_highest400 ), \\\n",
    "  \"The DataFrame stored in `df_highest400` does not contain a column \\\">=3.75\\\".  Are you sure it's a subset of the original DataFrame?\"\n",
    "\n",
    "assert( len(df_highest400) == 10 ), \\\n",
    "  \"The DataFrame stored in `df_highest400` must ONLY contain 10 rows.\"\n",
    "\n",
    "assert( df_highest400[\"=4.00\"].sum() == 509.01 ), \\\n",
    "  \"The DataFrame stored in `df_highest400` must contain ONLY the rows with the highest percentage of students with 4.00 GPAs.\"\n",
    "\n",
    "assert( len(df_highest400[\"School\"].unique() == 2) ), \\\n",
    "  \"The DataFrame stored in `df_highest400` must contain ONLY the rows with the highest percentage of students with 4.00 GPAs.\"\n",
    "\n",
    "print(f\"{tada} All tests passed! {tada}\")"
   ]
  },
  {
   "cell_type": "markdown",
   "execution_count": 0,
   "metadata": {},
   "outputs": [],
   "source": [
    "### Part 2.2: Exploring UW-Madison Data\n",
    "\n",
    "In the introduction, we previewed the Fall 2023 freshman class at the University of Wisconsin-Madison.  To understand if there's a trend in the data, we want to select **ALL** years of data from University of Wisconsin-Madison.\n",
    "\n",
    "To do this, store the rows with data about the University of Wisconsin-Madison in a new variable named `df_wisconsin`:"
   ]
  },
  {
   "cell_type": "code",
   "execution_count": 0,
   "metadata": {},
   "outputs": [],
   "source": [
    "# Select all the rows with data about the University of Wisconsin-Madison\n",
    "# and store those rows in a new variable named `df_wisconsin`:\n",
    "df_wisconsin = ...\n",
    "df_wisconsin"
   ]
  },
  {
   "cell_type": "code",
   "execution_count": 0,
   "metadata": {},
   "outputs": [],
   "source": [
    "### TEST CASE for Part 2.2: Exploring UW-Madison Data\n",
    "tada = \"\\N{PARTY POPPER}\"\n",
    "\n",
    "assert( \"df_wisconsin\" in vars() ), \\\n",
    "  \"You must define a new variable called `df_wisconsin`.\"\n",
    "\n",
    "assert( \"DataFrame\" in str(type(df_wisconsin)) ), \\\n",
    "  \"The variable `df_wisconsin` must contain a DataFrame.\"\n",
    "\n",
    "assert( \"School\" in df_wisconsin ), \\\n",
    "  \"The DataFrame stored in `df_wisconsin` does not contain a column \\\"School\\\".  Are you sure it's a subset of the original DataFrame?\"\n",
    "\n",
    "assert( \">=3.75\" in df_wisconsin ), \\\n",
    "  \"The DataFrame stored in `df_wisconsin` does not contain a column \\\">=3.75\\\".  Are you sure it's a subset of the original DataFrame?\"\n",
    "\n",
    "assert( len(df_wisconsin[\"School\"].unique() == 1) ), \\\n",
    "  \"The DataFrame stored in `df_wisconsin` must ONLY contain data about \\\"University of Wisconsin-Madison\\\" and no other schools (your DataFrame contains multiple schools). \"\n",
    "\n",
    "assert( df_wisconsin[\"School\"].unique()[0] == \"University of Wisconsin-Madison\" ), \\\n",
    "  \"The DataFrame stored in `df_wisconsin` must ONLY contain data about \\\"University of Wisconsin-Madison\\\" and no other schools (your DataFrame contains a different schools). \"\n",
    "\n",
    "assert( len(df_wisconsin) == 24 ), \\\n",
    "  \"The DataFrame stored in `df_wisconsin` must contain ALL of the rows about \\\"University of Wisconsin-Madison\\\" (your DataFrame contains the incorrect number of rows). \"\n",
    "\n",
    "import math\n",
    "assert( math.isclose( df_wisconsin[\">=3.75\"].std(), 11.990700587738619 ) ), \\\n",
    "  \"The DataFrame stored in `df_wisconsin` contains incorrect data (did you accidentally change the data somewhere?)\"\n",
    "\n",
    "print(f\"{tada} All tests passed! {tada}\")"
   ]
  },
  {
   "cell_type": "markdown",
   "execution_count": 0,
   "metadata": {},
   "outputs": [],
   "source": [
    "### Part 2.3: Exploring Data From U-Michigan\n",
    "\n",
    "An extremely helpful tool is to list **ALL the unique values for a given column** by using the command:\n",
    "\n",
    "> ```py\n",
    "> df[\"Column\"].unique()\n",
    "> ```\n",
    "\n",
    "To list all of the different universities that appear in the dataset, we would need to find the **unique values for the column `School`**.  Using the syntax above, list all of the unique Big Ten universities stored in the DataFrame `df`:"
   ]
  },
  {
   "cell_type": "code",
   "execution_count": 0,
   "metadata": {},
   "outputs": [],
   "source": [
    "# List all of the unique Big Ten universities stored in the DataFrame `df`:\n",
    "..."
   ]
  },
  {
   "cell_type": "markdown",
   "execution_count": 0,
   "metadata": {},
   "outputs": [],
   "source": [
    "Once you have a list of all the University names, find the exact spelling and capitalization for The University of Michigan as it appears in the dataset.  Then, just like in Part 2.2, select all the rows from the original DataFrame (`df`) that contain data about The University of Michigan.\n",
    "\n",
    "Store your data in a new variable called `df_michigan`:"
   ]
  },
  {
   "cell_type": "code",
   "execution_count": 0,
   "metadata": {},
   "outputs": [],
   "source": [
    "# Select all the rows from the original DataFrame (`df`) that contain data about\n",
    "# The University of Michigan.  Store your data in a new variable called `df_michigan`:\n",
    "df_michigan = ...\n",
    "df_michigan"
   ]
  },
  {
   "cell_type": "code",
   "execution_count": 0,
   "metadata": {},
   "outputs": [],
   "source": [
    "### TEST CASE for Part 2.3: Exploring Data From U-Michigan\n",
    "tada = \"\\N{PARTY POPPER}\"\n",
    "\n",
    "assert( \"df_michigan\" in vars() ), \\\n",
    "  \"You must define a new variable called `df_michigan`.\"\n",
    "\n",
    "assert( \"DataFrame\" in str(type(df_michigan)) ), \\\n",
    "  \"The variable `df_michigan` must contain a DataFrame.\"\n",
    "\n",
    "assert( \"School\" in df_michigan ), \\\n",
    "  \"The DataFrame stored in `df_michigan` does not contain a column \\\"School\\\".  Are you sure it's a subset of the original DataFrame?\"\n",
    "\n",
    "assert( \">=3.75\" in df_michigan ), \\\n",
    "  \"The DataFrame stored in `df_michigan` does not contain a column \\\">=3.75\\\".  Are you sure it's a subset of the original DataFrame?\"\n",
    "\n",
    "assert( len(df_michigan[\"School\"].unique() == 1) ), \\\n",
    "  \"The DataFrame stored in `df_michigan` must ONLY contain data about \\\"University of Michigan\\\" and no other schools (your DataFrame contains multiple schools). \"\n",
    "\n",
    "assert( df_michigan[\"School\"].unique()[0] == \"University of Michigan\" ), \\\n",
    "  \"The DataFrame stored in `df_michigan` must ONLY contain data about \\\"University of Michigan\\\" and no other schools (your DataFrame contains multiple schools). \"\n",
    "\n",
    "assert( len(df_michigan) == 25 ), \\\n",
    "  \"The DataFrame stored in `df_michigan` must contain ALL of the rows about \\\"University of Michigan\\\" (your DataFrame contains the incorrect number of rows). \"\n",
    "\n",
    "import math\n",
    "assert( math.isclose( df_michigan[\">=3.75\"].std(), 10.547687577630183 ) ), \\\n",
    "  \"The DataFrame stored in `df_michigan` contains incorrect data (did you accidentally change the data somewhere?)\"\n",
    "\n",
    "print(f\"{tada} All tests passed! {tada}\")"
   ]
  },
  {
   "cell_type": "markdown",
   "execution_count": 0,
   "metadata": {},
   "outputs": [],
   "source": [
    "### Part 2.4: Exploring Data From Michigan State\n",
    "\n",
    "Finally, let's create a variable for one final school!  Find all the rows about Michigan State and store those rows in a variable called `df_michiganState`:"
   ]
  },
  {
   "cell_type": "code",
   "execution_count": 0,
   "metadata": {},
   "outputs": [],
   "source": [
    "# Select all the rows from the original DataFrame (`df`) that contain data about\n",
    "# Michigan State.  Store your data in a new variable called `df_michiganState`:\n",
    "df_michiganState = ...\n",
    "df_michiganState"
   ]
  },
  {
   "cell_type": "code",
   "execution_count": 0,
   "metadata": {},
   "outputs": [],
   "source": [
    "### TEST CASE for Part 2.4: Exploring Data From Michigan State\n",
    "tada = \"\\N{PARTY POPPER}\"\n",
    "\n",
    "assert( \"df_michiganState\" in vars() ), \\\n",
    "  \"You must define a new variable called `df_michiganState`.\"\n",
    "\n",
    "assert( \"DataFrame\" in str(type(df_michiganState)) ), \\\n",
    "  \"The variable `df_michiganState` must contain a DataFrame.\"\n",
    "\n",
    "assert( \"School\" in df_michiganState ), \\\n",
    "  \"The DataFrame stored in `df_michiganState` does not contain a column \\\"School\\\".  Are you sure it's a subset of the original DataFrame?\"\n",
    "\n",
    "assert( \">=3.75\" in df_michiganState ), \\\n",
    "  \"The DataFrame stored in `df_michiganState` does not contain a column \\\">=3.75\\\".  Are you sure it's a subset of the original DataFrame?\"\n",
    "\n",
    "assert( len(df_michiganState[\"School\"].unique() == 1) ), \\\n",
    "  \"The DataFrame stored in `df_michiganState` must ONLY contain data about \\\"Michigan State\\\" and no other schools (your DataFrame contains multiple schools). \"\n",
    "\n",
    "assert( df_michiganState[\"School\"].unique()[0] == \"Michigan State\" ), \\\n",
    "  \"The DataFrame stored in `df_michiganState` must ONLY contain data about \\\"Michigan State\\\" and no other schools (your DataFrame contains multiple schools). \"\n",
    "\n",
    "assert( len(df_michiganState) == 25 ), \\\n",
    "  \"The DataFrame stored in `df_michiganState` must contain ALL of the rows about \\\"Michigan State\\\" (your DataFrame contains the incorrect number of rows). \"\n",
    "\n",
    "import math\n",
    "assert( math.isclose( df_michiganState[\">=3.75\"].std(), 8.284110410546061 ) ), \\\n",
    "  \"The DataFrame stored in `df_michiganState` contains incorrect data (did you accidentally change the data somewhere?)\"\n",
    "\n",
    "print(f\"{tada} All tests passed! {tada}\")"
   ]
  },
  {
   "cell_type": "markdown",
   "execution_count": 0,
   "metadata": {},
   "outputs": [],
   "source": [
    "<hr style=\"color: #DD3403;\">"
   ]
  },
  {
   "cell_type": "markdown",
   "execution_count": 0,
   "metadata": {},
   "outputs": [],
   "source": [
    "## Part 3: Data Visualization\n",
    "\n",
    "If you look back over the three DataFrames you created in Part 2.2 (Wisconsin), 2.3 (U-Michigan), and 2.4 (Michigan State), you can examine the tables for trends.  However, it's often more impactful to see the data visually!\n",
    "\n",
    "For any visualization, we generally need to specify:\n",
    "- What data do we want on the **x-axis**?\n",
    "- What data do we want on the **y-axis**?"
   ]
  },
  {
   "cell_type": "markdown",
   "execution_count": 0,
   "metadata": {},
   "outputs": [],
   "source": [
    "### Part 3.1: X-Axis Values\n",
    "\n",
    "To understand a trend over time, it's common the visualize the year on the x-axis.  To help create this visualization, find the column name in your DataFrame that contains data for the year of the data and store it in the Python variable `x_column` below:"
   ]
  },
  {
   "cell_type": "code",
   "execution_count": 0,
   "metadata": {},
   "outputs": [],
   "source": [
    "x_column = ...\n",
    "x_column"
   ]
  },
  {
   "cell_type": "markdown",
   "execution_count": 0,
   "metadata": {},
   "outputs": [],
   "source": [
    "### Part 3.2: Y-Axis Values\n",
    "\n",
    "In addition, we also need to decide what actual data we want to visualize the trend over time.\n",
    "- Do we want to visualize only students who have a 3.00? \n",
    "- ...or those with at least a 3.50? \n",
    "- ...or a perfect 4.0?\n",
    "- ...or something else entirely?\n",
    "- We can choose any column in our dataset!\n",
    "\n",
    "To start, find the name of the column that contains data of the **percentage of all freshman who have at least a high school GPA of 3.50 or greater**.  Store that column name in the variable `y_column`:"
   ]
  },
  {
   "cell_type": "code",
   "execution_count": 0,
   "metadata": {},
   "outputs": [],
   "source": [
    "y_column = ...\n",
    "y_column"
   ]
  },
  {
   "cell_type": "code",
   "execution_count": 0,
   "metadata": {},
   "outputs": [],
   "source": [
    "### MINI TEST CASE for Part 3.1 and Part 3.2\n",
    "tada = \"\\N{PARTY POPPER}\"\n",
    "assert( type(x_column) == type(\"\") ), \"The value stored in `x_column` must be just the column name for the x-values of data -- not the actual data. (Make sure your `x_column` variable is a string, not a whole column.)\"\n",
    "assert( type(y_column) == type(\"\") ), \"The value stored in `y_column` must be just the column name for the y-values of data -- not the actual data. (Make sure your `y_column` variable is a string, not a whole column.)\"\n",
    "print(f\"{tada} All tests passed! {tada}\")"
   ]
  },
  {
   "cell_type": "markdown",
   "execution_count": 0,
   "metadata": {},
   "outputs": [],
   "source": [
    "### Part 3.3: Create the visualization!\n",
    "\n",
    "In Module 2 of DISCOVERY (the very next module!), you will learn how to create a visualization -- but take a peek at the code below before you run it.\n",
    "- In the first line, you will find we use your `df_wisconsin` that you created in Part 2.2.  This is how we source data about the high school GPAs of the freshman class at The University of Wisconsin. \n",
    "- Immediately after `df_wisconsin`, we use `.plot.line` to create a line graph with the data! This line of code is stored in the variable `ax` that is referenced later in the code to add modifications to the original line graph.\n",
    "- This is repeated in a very similar way in Lines #2 and Line #3 below for `df_michigan` and `df_michiganState`. Note the `ax=` parameter in these lines which adds each university's line to the original Wisconsin-Madison line graph stored in the variable `ax`.\n",
    "\n",
    "You'll create line plots like this, along with dozens of other visualizations, when we cover Data Visualization in DISCOVERY in Module 2!  However, for now, we've provided it for you. :)\n",
    "\n",
    "When you're ready, run the code to create the visualization:"
   ]
  },
  {
   "cell_type": "code",
   "execution_count": 0,
   "metadata": {},
   "outputs": [],
   "source": [
    "# Line 1: Line Plot for University of Wisconsin (using `df_wisconsin`)\n",
    "ax = df_wisconsin.plot.line(x=x_column, y=y_column)\n",
    "\n",
    "# Line 2: Line Plot for University of Michigan (using `df_michigan`)\n",
    "df_michigan.plot.line(x=x_column, y=y_column, ax=ax)\n",
    "\n",
    "# Line 3: Line Plot for Michigan State (using `df_michiganState`)\n",
    "df_michiganState.plot.line(x=x_column, y=y_column, ax=ax)\n",
    "\n",
    "# Setting up meaningful label names:\n",
    "ax.set_ylabel(f\"% of Freshman Class with High School GPA {y_column}\")\n",
    "ax.set_title(\"Trends in High School GPAs among Incoming Freshman Classes\")\n",
    "ax.set_xticks(range(2004, 2024))\n",
    "ax.set_xticklabels(labels=range(2004, 2024), rotation=90)\n",
    "ax.legend( [\"Wisconsin\", \"Michigan\", \"Michigan State\"])"
   ]
  },
  {
   "cell_type": "markdown",
   "execution_count": 0,
   "metadata": {},
   "outputs": [],
   "source": [
    "### Part 3.4: Modify the Data Being Visualized\n",
    "\n",
    "Finally, return to Part 3.2 and modify the `y_column` to visualize the percentage of the freshman class that has a **high school GPA of at 3.75 or greater**.\n",
    "\n",
    "⚠️ - You must modify the `y_column` cell and re-run that cell **AND** generate a new graph by re-running the visualization cell in order to pass this the next test case! - ⚠️\n"
   ]
  },
  {
   "cell_type": "code",
   "execution_count": 0,
   "metadata": {},
   "outputs": [],
   "source": [
    "### TEST CASE for Part 3: Data Visualization\n",
    "assert(len(ax.lines) >= 3), \"You must have (at least) three line plots in your visualization.\"\n",
    "assert(y_column == \">=3.75\"), \"Make sure to read Part 3.4 and update the value of y_column variable to the correct value.\"\n",
    "\n",
    "values = []\n",
    "for line in ax.lines:\n",
    "  values.append( line.get_data()[1].data[0] )\n",
    "\n",
    "assert( 83.8 in values ), \"You must have a line for data from the University of Wisconsin.\"\n",
    "assert( 92.3 in values ), \"You must have a line for data from the University of Michigan.\"\n",
    "assert( 55.3 in values ), \"You must have a line for data from the Michigan State.\"\n",
    "print(f\"{tada} All tests passed! {tada}\")"
   ]
  },
  {
   "cell_type": "markdown",
   "execution_count": 0,
   "metadata": {},
   "outputs": [],
   "source": [
    "<hr style=\"color: #DD3403;\">"
   ]
  },
  {
   "cell_type": "markdown",
   "execution_count": 0,
   "metadata": {},
   "outputs": [],
   "source": [
    "## JKLMNOP: Just Keep Letting Me Nerd Out Please!\n",
    "\n",
    "The visualization you created is the foundational pieces of the visualization *\"Trends in High School GPAs among Incoming Freshman Classes of Big Ten Schools\"*, which won first prize at The University of Illinois the Big Ten Academic Alliance's 2025 Data Visualization Championship:\n",
    "\n",
    "- You can view the visualization here: https://waf.cs.illinois.edu/visualizations/Trends-in-High-School-GPAs-of-Incoming-Freshman/\n",
    "- The first of the two line graph on the link above (about half way down the page) graphs the same data you graphed in Part 3. 🎉\n",
    "\n",
    "If you want to keep nerding out, here's two additional challenges!\n",
    "- You can complete them by adding new \"Code\" cells below this cell in your Jupyter notebook.\n",
    "- The JKLMNOP challenges are not required to finish the MicroProject, but gives you a way to explore a little bit more! :)\n",
    "- If you want to skip these challenges, you can continue to \"Run the GitHub Action Autograder\" to grade your MicroProject.\n",
    "\n",
    "**JKLMNOP Challenge #1**: Continue building your data visualization and create a visualization that includes all ten schools in the dataset into a single visualization!\n",
    "\n",
    "**JKLMNOP Challenge #2**: As a advanced challenge, add the \"B1G Average\" line to your visualization similar to what is displayed in the *\"Trends in High School GPAs among Incoming Freshman Classes of Big Ten Schools\"* visualization linked above."
   ]
  },
  {
   "cell_type": "code",
   "execution_count": 0,
   "metadata": {},
   "outputs": [],
   "source": [
    "# You can add as many or as few new code cells as you need! :)"
   ]
  },
  {
   "attachments": {},
   "cell_type": "markdown",
   "execution_count": 0,
   "metadata": {},
   "outputs": [],
   "source": [
    "<hr style=\"color: #DD3403;\">"
   ]
  },
  {
   "attachments": {},
   "cell_type": "markdown",
   "execution_count": 0,
   "metadata": {},
   "outputs": [],
   "source": [
    "## Run the GitHub Action Autograder\n",
    "\n",
    "You're almost done!  All that's left is to commit your lab to GitHub and then run the GitHub Action grader on it! \n",
    "\n",
    "1.  ⚠️ **Make certain to save your work.** ⚠️ To do this, go to **File => Save All**.\n",
    "\n",
    "2.  After you have saved, exit this notebook and return to https://discovery.cs.illinois.edu/microproject/trends-in-high-school-gpas/ and complete the section **\"Commit and Grade Your Notebook\"**.\n",
    "\n",
    "3. Only once you have a green check mark (✅) on your GitHub Action for this MicroProject, you have completed this MicroProject! 🎉"
   ]
  }
 ],
 "metadata": {
  "kernelspec": {
   "display_name": "Python 3",
   "language": "python",
   "name": "python3"
  },
  "language_info": {
   "codemirror_mode": {
    "name": "ipython",
    "version": 3
   },
   "file_extension": ".py",
   "mimetype": "text/x-python",
   "name": "python",
   "nbconvert_exporter": "python",
   "pygments_lexer": "ipython3",
   "version": "3.11.9"
  },
  "vscode": {
   "interpreter": {
    "hash": "369f2c481f4da34e4445cda3fffd2e751bd1c4d706f27375911949ba6bb62e1c"
   }
  }
 },
 "nbformat": 4,
 "nbformat_minor": 2
}
